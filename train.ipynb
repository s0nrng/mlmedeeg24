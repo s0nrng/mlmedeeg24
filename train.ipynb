{
 "cells": [
  {
   "cell_type": "code",
   "execution_count": 1,
   "id": "588b9a87",
   "metadata": {},
   "outputs": [],
   "source": [
    "import torch\n",
    "import torch.nn as nn\n",
    "import torch.nn.functional as f\n",
    "from torch.utils.data import Dataset, DataLoader\n",
    "from utils import *\n",
    "from sklearn.model_selection import train_test_split\n",
    "\n",
    "from inception import EEGInception, InceptionDataset\n",
    "from fish import FishNet, FishDataset\n",
    "import numpy as np\n",
    "import scipy\n",
    "from tqdm.auto import tqdm\n",
    "\n",
    "from scipy.signal import kaiserord, lfilter, firwin, freqz\n",
    "import os\n",
    "import copy"
   ]
  },
  {
   "cell_type": "code",
   "execution_count": 2,
   "id": "7adced44",
   "metadata": {},
   "outputs": [],
   "source": [
    "device=\"cuda\"\n",
    "os.environ[\"CUDA_VISIBLE_DEVICES\"]=\"2\"\n",
    "\n",
    "E=100"
   ]
  },
  {
   "cell_type": "code",
   "execution_count": 3,
   "id": "df091ef0",
   "metadata": {},
   "outputs": [
    {
     "data": {
      "text/plain": [
       "<torch._C.Generator at 0x7f5668142e50>"
      ]
     },
     "execution_count": 3,
     "metadata": {},
     "output_type": "execute_result"
    }
   ],
   "source": [
    "np.random.seed(0)\n",
    "torch.manual_seed(0)"
   ]
  },
  {
   "cell_type": "code",
   "execution_count": 4,
   "id": "2a011d50",
   "metadata": {},
   "outputs": [],
   "source": [
    "def EANorm(X, R):\n",
    "    R = np.linalg.inv(R)\n",
    "    R = np.matmul(R, R)\n",
    "    return np.matmul(R, X)\n",
    "\n",
    "def getR(X):\n",
    "    N = X.shape[0]\n",
    "    R = np.zeros((X.shape[1], X.shape[1]))\n",
    "    for x in X:\n",
    "        R += np.matmul(x, x.T)/N\n",
    "    return R"
   ]
  },
  {
   "cell_type": "code",
   "execution_count": 5,
   "id": "4d1ae273",
   "metadata": {
    "scrolled": true
   },
   "outputs": [],
   "source": [
    "# X_train = np.load(\"../X_train.npy\", mmap_mode='r')\n",
    "# X_test = np.load(\"../X_test.npy\", mmap_mode='r')\n",
    "# y_train = np.load(\"../y_train.npy\", mmap_mode='r')-1\n",
    "# y_test = np.load(\"../y_test.npy\", mmap_mode='r')-1\n",
    "\n",
    "\n",
    "X_train = np.load(\"data/PHISYO__numberSub20_subIDtrain0_subIDtest8_band_13-Copy1.0_31.0_trainTestRandom.npy\", mmap_mode='r')\n",
    "y_train = np.load(\"data/PHISYO__numberSub20_subIDtrain0_subIDtest8_band_13-Copy1.0_31.0_trainTestRandom_label.npy\", mmap_mode='r')\n",
    "X_test = np.load(\"data/PHISYO__numberSub20_subIDtrain0_subIDtest8_band_13-Copy1.0_31.0_trainTestRandom_test.npy\", mmap_mode='r')\n",
    "y_test = np.load(\"data/PHISYO__numberSub20_subIDtrain0_subIDtest8_band_13-Copy1.0_31.0_trainTestRandom_label_test.npy\", mmap_mode='r')\n",
    "\n",
    "sample_rate = 250\n",
    "\n",
    "# The Nyquist rate of the signal.\n",
    "nyq_rate = sample_rate / 2.0\n",
    "\n",
    "# The desired width of the transition from pass to stop,\n",
    "# relative to the Nyquist rate.  We'll design the filter\n",
    "# with a 5 Hz transition width.\n",
    "width = 5.0/nyq_rate\n",
    "\n",
    "# The desired attenuation in the stop band, in dB.\n",
    "ripple_db = 10\n",
    "\n",
    "# Compute the order and Kaiser parameter for the FIR filter.\n",
    "N, beta = kaiserord(ripple_db, width)\n",
    "\n",
    "# The cutoff frequency of the filter.\n",
    "cutoff_hz = 8.0\n",
    "\n",
    "# Use firwin with a Kaiser window to create a lowpass FIR filter.\n",
    "taps = firwin(N, cutoff_hz/nyq_rate, window=('kaiser', beta))\n",
    "\n",
    "# Use lfilter to filter x with the FIR filter.\n",
    "X_train = lfilter(taps, 1.0, X_train)\n",
    "X_test = lfilter(taps, 1.0, X_test)"
   ]
  },
  {
   "cell_type": "code",
   "execution_count": 6,
   "id": "7704052c",
   "metadata": {},
   "outputs": [
    {
     "data": {
      "text/plain": [
       "(3052, 22, 750)"
      ]
     },
     "execution_count": 6,
     "metadata": {},
     "output_type": "execute_result"
    }
   ],
   "source": [
    "X_train.shape"
   ]
  },
  {
   "cell_type": "code",
   "execution_count": 7,
   "id": "8e6245ef",
   "metadata": {},
   "outputs": [
    {
     "data": {
      "text/plain": [
       "(576, 22, 750)"
      ]
     },
     "execution_count": 7,
     "metadata": {},
     "output_type": "execute_result"
    }
   ],
   "source": [
    "X_test.shape"
   ]
  },
  {
   "cell_type": "code",
   "execution_count": 8,
   "id": "43ab445c",
   "metadata": {},
   "outputs": [
    {
     "data": {
      "text/plain": [
       "3628"
      ]
     },
     "execution_count": 8,
     "metadata": {},
     "output_type": "execute_result"
    }
   ],
   "source": [
    "3052+576"
   ]
  },
  {
   "cell_type": "code",
   "execution_count": 9,
   "id": "b8c10ad8",
   "metadata": {},
   "outputs": [],
   "source": [
    "R = getR(X_train)\n",
    "X_train = EANorm(X_train, R)\n",
    "X_test = EANorm(X_test, R)\n",
    "X_test, X_test, _, _ = normMat(X_test, X_test, 1)\n",
    "X_train, X_train, _, _ = normMat(X_train, X_train, 1)\n",
    "X_train, X_test, _, _ = normMat(X_train, X_test)"
   ]
  },
  {
   "cell_type": "code",
   "execution_count": 10,
   "id": "126fde69",
   "metadata": {},
   "outputs": [],
   "source": [
    "X_train, X_val, y_train, y_val = train_test_split(X_train, y_train, test_size=0.1)\n",
    "X_tune_train, X_tune_val, y_tune_train, y_tune_val = train_test_split(X_test, y_test, test_size=0.1)"
   ]
  },
  {
   "cell_type": "code",
   "execution_count": 11,
   "id": "f192b32f",
   "metadata": {},
   "outputs": [
    {
     "data": {
      "text/plain": [
       "(2746, 22, 750)"
      ]
     },
     "execution_count": 11,
     "metadata": {},
     "output_type": "execute_result"
    }
   ],
   "source": [
    "X_train.shape"
   ]
  },
  {
   "cell_type": "code",
   "execution_count": 12,
   "id": "1bd4b5ef",
   "metadata": {},
   "outputs": [],
   "source": [
    "import torch\n",
    "import torch.nn as nn\n",
    "import torch.nn.init as init\n",
    "import torch.nn.functional as f\n",
    "\n",
    "from torch.utils.data import Dataset, DataLoader\n",
    "\n",
    "class ShallowEEG(nn.Module):\n",
    "    def __init__(self, in_chans, in_length, no_classes):\n",
    "        super(ShallowEEG, self).__init__()\n",
    "        dummy = torch.zeros((1,1,in_chans, in_length))\n",
    "        \n",
    "        self.convtemp = nn.Conv2d(1, 40, (1, 25))\n",
    "        init.xavier_uniform_(self.convtemp.weight)\n",
    "        init.constant_(self.convtemp.bias, 0)\n",
    "        \n",
    "        self.convspat = nn.Conv2d(40, 40, (in_chans, 1))\n",
    "        init.xavier_uniform_(self.convspat.weight)\n",
    "        init.constant_(self.convspat.bias, 0)\n",
    "        \n",
    "        self.pool = nn.MaxPool2d((1, 75), stride=(1, 15))\n",
    "        dummy = nn.Flatten()(self.pool(self.convspat(self.convtemp(dummy))))\n",
    "        self.linear = nn.Linear(dummy.shape[-1], no_classes)\n",
    "    \n",
    "    def forward(self, data):\n",
    "        data = f.relu(self.convtemp(data))\n",
    "        data = f.relu(self.convspat(data))\n",
    "        data = self.pool(data)\n",
    "        data = nn.Flatten()(data)\n",
    "        data = f.softmax(self.linear(data))\n",
    "        return data\n",
    "    \n",
    "class DeepEEG(nn.Module):\n",
    "    def __init__(self, in_chans, in_length, no_classes):\n",
    "        super(DeepEEG, self).__init__()\n",
    "        dummy = torch.zeros((1,1,in_chans, in_length))\n",
    "        # Block 1\n",
    "        self.convtemp = nn.Conv2d(1,  25, (1, 10))\n",
    "        self.wbinit(self.convtemp)\n",
    "        \n",
    "        self.convspat = nn.Conv2d(25, 25, (in_chans, 1))\n",
    "        self.wbinit(self.convspat)\n",
    "        \n",
    "        self.pool1 = nn.MaxPool2d((1, 3), stride=(1, 3))\n",
    "        \n",
    "        self.block1 = nn.Sequential(\n",
    "            self.convtemp,\n",
    "            self.convspat,\n",
    "            self.pool1\n",
    "        )\n",
    "        dummy = self.block1(dummy)\n",
    "        \n",
    "        # Block 2\n",
    "        self.conv2 = nn.Conv2d(25, 50, (1, 10))\n",
    "        self.wbinit(self.conv2)\n",
    "        \n",
    "        self.pool2 = nn.MaxPool2d((1, 3), stride=(1, 3))\n",
    "        \n",
    "        self.block2 = nn.Sequential(\n",
    "            self.conv2,\n",
    "            nn.ReLU(),\n",
    "            self.pool2\n",
    "        )\n",
    "        dummy = self.block2(dummy)\n",
    "        \n",
    "        # Block 3\n",
    "        self.conv3 = nn.Conv2d(50, 100, (1,10))\n",
    "        self.wbinit(self.conv3)\n",
    "        \n",
    "        self.pool3 = nn.MaxPool2d((1, 3), stride=(1, 3))\n",
    "        \n",
    "        self.block3 = nn.Sequential(\n",
    "            self.conv3,\n",
    "            nn.ReLU(),\n",
    "            self.pool3\n",
    "        )\n",
    "        dummy = self.block3(dummy)\n",
    "        \n",
    "        # Block 4\n",
    "        self.conv4 = nn.Conv2d(100, 200, (1,10))\n",
    "        self.wbinit(self.conv4)\n",
    "        \n",
    "        self.pool4 = nn.MaxPool2d((1, 3), stride=(1, 3))\n",
    "        \n",
    "        self.block4 = nn.Sequential(\n",
    "            self.conv4,\n",
    "            nn.ReLU(),\n",
    "            self.pool4\n",
    "        )\n",
    "        dummy = self.block4(dummy)\n",
    "        \n",
    "        # CLassifier\n",
    "        dummy = nn.Flatten()(dummy)\n",
    "        self.linear = nn.Linear(dummy.shape[-1], no_classes)\n",
    "        \n",
    "    \n",
    "    def wbinit(self, layer):\n",
    "        init.xavier_uniform_(layer.weight)\n",
    "        init.constant_(layer.bias, 0)\n",
    "    \n",
    "    def forward(self, data):\n",
    "        data = self.block1(data)\n",
    "        data = self.block2(data)\n",
    "        data = self.block3(data)\n",
    "        data = self.block4(data)\n",
    "        data = nn.Flatten()(data)\n",
    "        data = f.softmax(self.linear(data))\n",
    "        return data\n",
    "        \n",
    "    \n",
    "class EEGDataset(Dataset):\n",
    "    def __init__(self, X, y):\n",
    "        self.X = X\n",
    "        self.y = y\n",
    "    \n",
    "    def __len__(self):\n",
    "        return self.X.shape[0]\n",
    "    \n",
    "    def __getitem__(self, idx):\n",
    "        X = torch.FloatTensor(self.X[idx]).unsqueeze(dim=0)\n",
    "        y = self.y[idx]\n",
    "        return X, y"
   ]
  },
  {
   "cell_type": "code",
   "execution_count": 13,
   "id": "63829121",
   "metadata": {},
   "outputs": [
    {
     "data": {
      "application/vnd.jupyter.widget-view+json": {
       "model_id": "7fe6157192b74b8fad964091f91425df",
       "version_major": 2,
       "version_minor": 0
      },
      "text/plain": [
       "  0%|          | 0/101 [00:00<?, ?it/s]"
      ]
     },
     "metadata": {},
     "output_type": "display_data"
    },
    {
     "name": "stderr",
     "output_type": "stream",
     "text": [
      "/tmp/ipykernel_16514/2941981507.py:107: UserWarning: Implicit dimension choice for softmax has been deprecated. Change the call to include dim=X as an argument.\n",
      "  data = f.softmax(self.linear(data))\n"
     ]
    },
    {
     "name": "stdout",
     "output_type": "stream",
     "text": [
      "0.4089584850691915 0.3660130718954248\n",
      "0.6114348142753095 0.5424836601307189\n",
      "0.6693372177713037 0.5522875816993464\n",
      "0.7407137654770576 0.5784313725490197\n",
      "0.7348871085214858 0.5718954248366013\n",
      "0.7487254187909687 0.5392156862745098\n",
      "0.7450837581937363 0.545751633986928\n",
      "Epoch 00062: reducing learning rate of group 0 to 1.0000e-05.\n",
      "0.7490895848506919 0.565359477124183\n",
      "0.7490895848506919 0.5620915032679739\n",
      "0.7490895848506919 0.5620915032679739\n",
      "0.7490895848506919 0.5620915032679739\n"
     ]
    }
   ],
   "source": [
    "trainset = EEGDataset(X_train, y_train)\n",
    "valset = EEGDataset(X_val, y_val)\n",
    "traintuneset = EEGDataset(X_tune_train, y_tune_train)\n",
    "valtuneset = EEGDataset(X_tune_val, y_tune_val)\n",
    "\n",
    "trainloader = DataLoader(trainset, batch_size=200)\n",
    "valloader = DataLoader(valset, batch_size=200)\n",
    "traintuneloader = DataLoader(traintuneset, batch_size=200)\n",
    "valtuneloader = DataLoader(valtuneset, batch_size=200)\n",
    "\n",
    "model = DeepEEG(in_chans = X_train.shape[1], in_length = X_train.shape[2], no_classes=3).to(device)\n",
    "loss_fun = nn.CrossEntropyLoss()\n",
    "optimizer = torch.optim.Adam(model.parameters(), lr=0.0001)\n",
    "scheduler = torch.optim.lr_scheduler.ReduceLROnPlateau(optimizer, factor = 0.1, verbose=True)\n",
    "\n",
    "loss_train = []\n",
    "loss_val = []\n",
    "acc_train = []\n",
    "acc_val = []\n",
    "\n",
    "E = 101\n",
    "E_tune = 31\n",
    "\n",
    "for e in tqdm(range(E)):\n",
    "    model.train()\n",
    "    train_loss = 0\n",
    "    train_acc = 0\n",
    "    for X, y in trainloader:\n",
    "        X, y = X.to(device), y.to(device)\n",
    "        optimizer.zero_grad()\n",
    "        output = model(X)\n",
    "        loss = loss_fun(output, y)\n",
    "        loss.backward()\n",
    "        optimizer.step()\n",
    "        train_loss += loss.item()\n",
    "        train_acc += torch.sum(torch.argmax(output, dim=1) == y).item()\n",
    "    scheduler.step(train_loss)\n",
    "    train_loss /= len(trainloader)\n",
    "    train_acc /= len(trainset)\n",
    "    \n",
    "    val_loss = 0\n",
    "    val_acc = 0\n",
    "    with torch.inference_mode():\n",
    "        for X, y in valloader:\n",
    "            X, y = X.to(device), y.to(device)\n",
    "            output = model(X)\n",
    "            loss = loss_fun(output, y)\n",
    "            val_loss += loss.item()\n",
    "            val_acc += torch.sum(torch.argmax(output, dim=1) == y).item()\n",
    "    val_loss /= len(valloader)\n",
    "    val_acc /= len(valset)\n",
    "    \n",
    "    if e%10==0:\n",
    "        print(train_acc, val_acc)\n",
    "        \n",
    "#     # Fine tune\n",
    "#         print(\"Fine-tuning\")\n",
    "#         finetune_model = copy.deepcopy(model)\n",
    "#         finetune_optimizer = torch.optim.Adam(finetune_model.parameters(), lr=0.0001)\n",
    "#         for etune in tqdm(range(E_tune)):\n",
    "#             tune_train_acc = 0\n",
    "#             tune_train_loss = 0\n",
    "#             finetune_model.train()\n",
    "#             for X, y in traintuneloader:\n",
    "#                 X, y = X.to(device), y.to(device)\n",
    "#                 output = finetune_model(X)\n",
    "#                 loss = loss_fun(output, y)\n",
    "#                 loss.backward()\n",
    "#                 finetune_optimizer.step()\n",
    "#                 tune_train_loss += loss.item()/len(traintuneloader)\n",
    "#                 tune_train_acc += torch.sum(torch.argmax(output, dim=1) == y).item()/len(traintuneset)\n",
    "#         with torch.inference_mode():\n",
    "#             tune_val_acc = 0\n",
    "#             tune_val_loss = 0\n",
    "#             for X, y in valtuneloader:\n",
    "#                 X, y = X.to(device), y.to(device)\n",
    "#                 output = finetune_model(X)\n",
    "#                 loss = loss_fun(output, y)\n",
    "#                 tune_val_loss += loss.item()/len(valtuneloader)\n",
    "#                 tune_val_acc += torch.sum(torch.argmax(output, dim=1) == y).item()/len(valtuneset)\n",
    "#         print(tune_val_loss, tune_val_acc)\n",
    "#         print(\"________________________________________________________\")\n",
    "    loss_train.append(train_loss)\n",
    "    loss_val.append(val_loss)\n",
    "    acc_train.append(train_acc)\n",
    "    acc_val.append(val_acc)"
   ]
  },
  {
   "cell_type": "code",
   "execution_count": 14,
   "id": "0d14d9fd",
   "metadata": {},
   "outputs": [
    {
     "name": "stderr",
     "output_type": "stream",
     "text": [
      "/tmp/ipykernel_16514/2941981507.py:107: UserWarning: Implicit dimension choice for softmax has been deprecated. Change the call to include dim=X as an argument.\n",
      "  data = f.softmax(self.linear(data))\n"
     ]
    }
   ],
   "source": [
    "testset = EEGDataset(X_test, y_test)\n",
    "testloader = DataLoader(testset, batch_size=64)\n",
    "\n",
    "test_loss = 0\n",
    "test_acc = 0\n",
    "with torch.inference_mode():\n",
    "    for X, y in testloader:\n",
    "        X, y = X.to(device), y.to(device)\n",
    "        output = model(X)\n",
    "        loss = loss_fun(output, y)\n",
    "        test_loss += loss.item()\n",
    "        test_acc += torch.sum(torch.argmax(output, dim=1) == y).item()\n",
    "test_loss /= len(testloader)\n",
    "test_acc /= len(testset)"
   ]
  },
  {
   "cell_type": "code",
   "execution_count": 15,
   "id": "df4dea12",
   "metadata": {},
   "outputs": [
    {
     "data": {
      "text/plain": [
       "1.0514448881149292"
      ]
     },
     "execution_count": 15,
     "metadata": {},
     "output_type": "execute_result"
    }
   ],
   "source": [
    "test_loss"
   ]
  },
  {
   "cell_type": "code",
   "execution_count": 16,
   "id": "0c386880",
   "metadata": {},
   "outputs": [
    {
     "data": {
      "text/plain": [
       "0.5"
      ]
     },
     "execution_count": 16,
     "metadata": {},
     "output_type": "execute_result"
    }
   ],
   "source": [
    "test_acc"
   ]
  },
  {
   "cell_type": "code",
   "execution_count": null,
   "id": "9019a92c",
   "metadata": {},
   "outputs": [],
   "source": [
    "0.4089584850691915 0.3660130718954248\n",
    "0.6125273124544792 0.545751633986928\n",
    "0.6693372177713037 0.5490196078431373\n",
    "0.7396212672978878 0.5816993464052288\n",
    "0.6951930080116533 0.5620915032679739\n",
    "0.747632920611799 0.545751633986928\n",
    "0.7494537509104151 0.5718954248366013\n",
    "0.7498179169701383 0.5718954248366013\n",
    "0.7498179169701383 0.5686274509803921\n",
    "0.7498179169701383 0.5686274509803921\n",
    "0.7498179169701383 0.5686274509803921"
   ]
  },
  {
   "cell_type": "code",
   "execution_count": 46,
   "id": "d36ceed1",
   "metadata": {},
   "outputs": [],
   "source": [
    "train_loss = np.array(loss_train)\n",
    "val_loss = np.array(loss_val)\n",
    "train_acc = np.array(acc_train)\n",
    "val_acc = np.array(acc_val)"
   ]
  },
  {
   "cell_type": "code",
   "execution_count": 24,
   "id": "b6297156",
   "metadata": {},
   "outputs": [
    {
     "data": {
      "text/plain": [
       "0.9585143625736237"
      ]
     },
     "execution_count": 24,
     "metadata": {},
     "output_type": "execute_result"
    }
   ],
   "source": [
    "val_loss"
   ]
  },
  {
   "cell_type": "code",
   "execution_count": 47,
   "id": "297e6952",
   "metadata": {},
   "outputs": [
    {
     "data": {
      "image/png": "[encoded data removed]",
      "text/plain": [
       "<Figure size 640x480 with 1 Axes>"
      ]
     },
     "metadata": {},
     "output_type": "display_data"
    }
   ],
   "source": [
    "plt.plot(train_loss, label='Train Loss')\n",
    "plt.plot(val_loss, label='Val Loss')\n",
    "plt.legend()\n",
    "plt.show()"
   ]
  },
  {
   "cell_type": "code",
   "execution_count": 48,
   "id": "6a444a4a",
   "metadata": {},
   "outputs": [
    {
     "data": {
      "image/png": "[encoded data removed]",
      "text/plain": [
       "<Figure size 640x480 with 1 Axes>"
      ]
     },
     "metadata": {},
     "output_type": "display_data"
    }
   ],
   "source": [
    "plt.plot(train_acc, label='Train Accuracy')\n",
    "plt.plot(val_acc, label='Val Accuracy')\n",
    "plt.legend()\n",
    "plt.show()"
   ]
  },
  {
   "cell_type": "code",
   "execution_count": 18,
   "id": "b2d20eef",
   "metadata": {},
   "outputs": [
    {
     "name": "stderr",
     "output_type": "stream",
     "text": [
      "/tmp/ipykernel_16390/2941981507.py:30: UserWarning: Implicit dimension choice for softmax has been deprecated. Change the call to include dim=X as an argument.\n",
      "  data = f.softmax(self.linear(data))\n"
     ]
    }
   ],
   "source": [
    "pred = []\n",
    "truth = []\n",
    "with torch.inference_mode():\n",
    "    for X, y in valloader:\n",
    "        truth.append(y.detach().numpy())\n",
    "        pred.append(torch.argmax(model(X.to(device)).cpu().detach(), dim=1).numpy())"
   ]
  },
  {
   "cell_type": "code",
   "execution_count": 19,
   "id": "4306d564",
   "metadata": {},
   "outputs": [],
   "source": [
    "truth = np.array(np.concatenate(truth))\n",
    "pred = np.array(np.concatenate(pred))"
   ]
  },
  {
   "cell_type": "code",
   "execution_count": 20,
   "id": "c0da3573",
   "metadata": {
    "scrolled": false
   },
   "outputs": [
    {
     "ename": "ValueError",
     "evalue": "The number of FixedLocator locations (3), usually from a call to set_ticks, does not match the number of labels (2).",
     "output_type": "error",
     "traceback": [
      "\u001b[0;31m---------------------------------------------------------------------------\u001b[0m",
      "\u001b[0;31mValueError\u001b[0m                                Traceback (most recent call last)",
      "Cell \u001b[0;32mIn[20], line 7\u001b[0m\n\u001b[1;32m      3\u001b[0m confusion_matrix \u001b[38;5;241m=\u001b[39m metrics\u001b[38;5;241m.\u001b[39mconfusion_matrix(pred, truth)\n\u001b[1;32m      5\u001b[0m cm_display \u001b[38;5;241m=\u001b[39m metrics\u001b[38;5;241m.\u001b[39mConfusionMatrixDisplay(confusion_matrix \u001b[38;5;241m=\u001b[39m confusion_matrix, display_labels \u001b[38;5;241m=\u001b[39m [\u001b[38;5;28;01mFalse\u001b[39;00m, \u001b[38;5;28;01mTrue\u001b[39;00m])\n\u001b[0;32m----> 7\u001b[0m cm_display\u001b[38;5;241m.\u001b[39mplot()\n\u001b[1;32m      8\u001b[0m plt\u001b[38;5;241m.\u001b[39mshow()\n",
      "File \u001b[0;32m~/anaconda3/lib/python3.11/site-packages/sklearn/metrics/_plot/confusion_matrix.py:181\u001b[0m, in \u001b[0;36mConfusionMatrixDisplay.plot\u001b[0;34m(self, include_values, cmap, xticks_rotation, values_format, ax, colorbar, im_kw, text_kw)\u001b[0m\n\u001b[1;32m    179\u001b[0m \u001b[38;5;28;01mif\u001b[39;00m colorbar:\n\u001b[1;32m    180\u001b[0m     fig\u001b[38;5;241m.\u001b[39mcolorbar(\u001b[38;5;28mself\u001b[39m\u001b[38;5;241m.\u001b[39mim_, ax\u001b[38;5;241m=\u001b[39max)\n\u001b[0;32m--> 181\u001b[0m ax\u001b[38;5;241m.\u001b[39mset(\n\u001b[1;32m    182\u001b[0m     xticks\u001b[38;5;241m=\u001b[39mnp\u001b[38;5;241m.\u001b[39marange(n_classes),\n\u001b[1;32m    183\u001b[0m     yticks\u001b[38;5;241m=\u001b[39mnp\u001b[38;5;241m.\u001b[39marange(n_classes),\n\u001b[1;32m    184\u001b[0m     xticklabels\u001b[38;5;241m=\u001b[39mdisplay_labels,\n\u001b[1;32m    185\u001b[0m     yticklabels\u001b[38;5;241m=\u001b[39mdisplay_labels,\n\u001b[1;32m    186\u001b[0m     ylabel\u001b[38;5;241m=\u001b[39m\u001b[38;5;124m\"\u001b[39m\u001b[38;5;124mTrue label\u001b[39m\u001b[38;5;124m\"\u001b[39m,\n\u001b[1;32m    187\u001b[0m     xlabel\u001b[38;5;241m=\u001b[39m\u001b[38;5;124m\"\u001b[39m\u001b[38;5;124mPredicted label\u001b[39m\u001b[38;5;124m\"\u001b[39m,\n\u001b[1;32m    188\u001b[0m )\n\u001b[1;32m    190\u001b[0m ax\u001b[38;5;241m.\u001b[39mset_ylim((n_classes \u001b[38;5;241m-\u001b[39m \u001b[38;5;241m0.5\u001b[39m, \u001b[38;5;241m-\u001b[39m\u001b[38;5;241m0.5\u001b[39m))\n\u001b[1;32m    191\u001b[0m plt\u001b[38;5;241m.\u001b[39msetp(ax\u001b[38;5;241m.\u001b[39mget_xticklabels(), rotation\u001b[38;5;241m=\u001b[39mxticks_rotation)\n",
      "File \u001b[0;32m~/anaconda3/lib/python3.11/site-packages/matplotlib/artist.py:147\u001b[0m, in \u001b[0;36mArtist.__init_subclass__.<locals>.<lambda>\u001b[0;34m(self, **kwargs)\u001b[0m\n\u001b[1;32m    139\u001b[0m \u001b[38;5;28;01mif\u001b[39;00m \u001b[38;5;129;01mnot\u001b[39;00m \u001b[38;5;28mhasattr\u001b[39m(\u001b[38;5;28mcls\u001b[39m\u001b[38;5;241m.\u001b[39mset, \u001b[38;5;124m'\u001b[39m\u001b[38;5;124m_autogenerated_signature\u001b[39m\u001b[38;5;124m'\u001b[39m):\n\u001b[1;32m    140\u001b[0m     \u001b[38;5;66;03m# Don't overwrite cls.set if the subclass or one of its parents\u001b[39;00m\n\u001b[1;32m    141\u001b[0m     \u001b[38;5;66;03m# has defined a set method set itself.\u001b[39;00m\n\u001b[1;32m    142\u001b[0m     \u001b[38;5;66;03m# If there was no explicit definition, cls.set is inherited from\u001b[39;00m\n\u001b[1;32m    143\u001b[0m     \u001b[38;5;66;03m# the hierarchy of auto-generated set methods, which hold the\u001b[39;00m\n\u001b[1;32m    144\u001b[0m     \u001b[38;5;66;03m# flag _autogenerated_signature.\u001b[39;00m\n\u001b[1;32m    145\u001b[0m     \u001b[38;5;28;01mreturn\u001b[39;00m\n\u001b[0;32m--> 147\u001b[0m \u001b[38;5;28mcls\u001b[39m\u001b[38;5;241m.\u001b[39mset \u001b[38;5;241m=\u001b[39m \u001b[38;5;28;01mlambda\u001b[39;00m \u001b[38;5;28mself\u001b[39m, \u001b[38;5;241m*\u001b[39m\u001b[38;5;241m*\u001b[39mkwargs: Artist\u001b[38;5;241m.\u001b[39mset(\u001b[38;5;28mself\u001b[39m, \u001b[38;5;241m*\u001b[39m\u001b[38;5;241m*\u001b[39mkwargs)\n\u001b[1;32m    148\u001b[0m \u001b[38;5;28mcls\u001b[39m\u001b[38;5;241m.\u001b[39mset\u001b[38;5;241m.\u001b[39m\u001b[38;5;18m__name__\u001b[39m \u001b[38;5;241m=\u001b[39m \u001b[38;5;124m\"\u001b[39m\u001b[38;5;124mset\u001b[39m\u001b[38;5;124m\"\u001b[39m\n\u001b[1;32m    149\u001b[0m \u001b[38;5;28mcls\u001b[39m\u001b[38;5;241m.\u001b[39mset\u001b[38;5;241m.\u001b[39m\u001b[38;5;18m__qualname__\u001b[39m \u001b[38;5;241m=\u001b[39m \u001b[38;5;124mf\u001b[39m\u001b[38;5;124m\"\u001b[39m\u001b[38;5;132;01m{\u001b[39;00m\u001b[38;5;28mcls\u001b[39m\u001b[38;5;241m.\u001b[39m\u001b[38;5;18m__qualname__\u001b[39m\u001b[38;5;132;01m}\u001b[39;00m\u001b[38;5;124m.set\u001b[39m\u001b[38;5;124m\"\u001b[39m\n",
      "File \u001b[0;32m~/anaconda3/lib/python3.11/site-packages/matplotlib/artist.py:1231\u001b[0m, in \u001b[0;36mArtist.set\u001b[0;34m(self, **kwargs)\u001b[0m\n\u001b[1;32m   1227\u001b[0m \u001b[38;5;28;01mdef\u001b[39;00m \u001b[38;5;21mset\u001b[39m(\u001b[38;5;28mself\u001b[39m, \u001b[38;5;241m*\u001b[39m\u001b[38;5;241m*\u001b[39mkwargs):\n\u001b[1;32m   1228\u001b[0m     \u001b[38;5;66;03m# docstring and signature are auto-generated via\u001b[39;00m\n\u001b[1;32m   1229\u001b[0m     \u001b[38;5;66;03m# Artist._update_set_signature_and_docstring() at the end of the\u001b[39;00m\n\u001b[1;32m   1230\u001b[0m     \u001b[38;5;66;03m# module.\u001b[39;00m\n\u001b[0;32m-> 1231\u001b[0m     \u001b[38;5;28;01mreturn\u001b[39;00m \u001b[38;5;28mself\u001b[39m\u001b[38;5;241m.\u001b[39m_internal_update(cbook\u001b[38;5;241m.\u001b[39mnormalize_kwargs(kwargs, \u001b[38;5;28mself\u001b[39m))\n",
      "File \u001b[0;32m~/anaconda3/lib/python3.11/site-packages/matplotlib/artist.py:1223\u001b[0m, in \u001b[0;36mArtist._internal_update\u001b[0;34m(self, kwargs)\u001b[0m\n\u001b[1;32m   1216\u001b[0m \u001b[38;5;28;01mdef\u001b[39;00m \u001b[38;5;21m_internal_update\u001b[39m(\u001b[38;5;28mself\u001b[39m, kwargs):\n\u001b[1;32m   1217\u001b[0m \u001b[38;5;250m    \u001b[39m\u001b[38;5;124;03m\"\"\"\u001b[39;00m\n\u001b[1;32m   1218\u001b[0m \u001b[38;5;124;03m    Update artist properties without prenormalizing them, but generating\u001b[39;00m\n\u001b[1;32m   1219\u001b[0m \u001b[38;5;124;03m    errors as if calling `set`.\u001b[39;00m\n\u001b[1;32m   1220\u001b[0m \n\u001b[1;32m   1221\u001b[0m \u001b[38;5;124;03m    The lack of prenormalization is to maintain backcompatibility.\u001b[39;00m\n\u001b[1;32m   1222\u001b[0m \u001b[38;5;124;03m    \"\"\"\u001b[39;00m\n\u001b[0;32m-> 1223\u001b[0m     \u001b[38;5;28;01mreturn\u001b[39;00m \u001b[38;5;28mself\u001b[39m\u001b[38;5;241m.\u001b[39m_update_props(\n\u001b[1;32m   1224\u001b[0m         kwargs, \u001b[38;5;124m\"\u001b[39m\u001b[38;5;132;01m{cls.__name__}\u001b[39;00m\u001b[38;5;124m.set() got an unexpected keyword argument \u001b[39m\u001b[38;5;124m\"\u001b[39m\n\u001b[1;32m   1225\u001b[0m         \u001b[38;5;124m\"\u001b[39m\u001b[38;5;132;01m{prop_name!r}\u001b[39;00m\u001b[38;5;124m\"\u001b[39m)\n",
      "File \u001b[0;32m~/anaconda3/lib/python3.11/site-packages/matplotlib/artist.py:1199\u001b[0m, in \u001b[0;36mArtist._update_props\u001b[0;34m(self, props, errfmt)\u001b[0m\n\u001b[1;32m   1196\u001b[0m             \u001b[38;5;28;01mif\u001b[39;00m \u001b[38;5;129;01mnot\u001b[39;00m \u001b[38;5;28mcallable\u001b[39m(func):\n\u001b[1;32m   1197\u001b[0m                 \u001b[38;5;28;01mraise\u001b[39;00m \u001b[38;5;167;01mAttributeError\u001b[39;00m(\n\u001b[1;32m   1198\u001b[0m                     errfmt\u001b[38;5;241m.\u001b[39mformat(\u001b[38;5;28mcls\u001b[39m\u001b[38;5;241m=\u001b[39m\u001b[38;5;28mtype\u001b[39m(\u001b[38;5;28mself\u001b[39m), prop_name\u001b[38;5;241m=\u001b[39mk))\n\u001b[0;32m-> 1199\u001b[0m             ret\u001b[38;5;241m.\u001b[39mappend(func(v))\n\u001b[1;32m   1200\u001b[0m \u001b[38;5;28;01mif\u001b[39;00m ret:\n\u001b[1;32m   1201\u001b[0m     \u001b[38;5;28mself\u001b[39m\u001b[38;5;241m.\u001b[39mpchanged()\n",
      "File \u001b[0;32m~/anaconda3/lib/python3.11/site-packages/matplotlib/axes/_base.py:74\u001b[0m, in \u001b[0;36m_axis_method_wrapper.__set_name__.<locals>.wrapper\u001b[0;34m(self, *args, **kwargs)\u001b[0m\n\u001b[1;32m     73\u001b[0m \u001b[38;5;28;01mdef\u001b[39;00m \u001b[38;5;21mwrapper\u001b[39m(\u001b[38;5;28mself\u001b[39m, \u001b[38;5;241m*\u001b[39margs, \u001b[38;5;241m*\u001b[39m\u001b[38;5;241m*\u001b[39mkwargs):\n\u001b[0;32m---> 74\u001b[0m     \u001b[38;5;28;01mreturn\u001b[39;00m get_method(\u001b[38;5;28mself\u001b[39m)(\u001b[38;5;241m*\u001b[39margs, \u001b[38;5;241m*\u001b[39m\u001b[38;5;241m*\u001b[39mkwargs)\n",
      "File \u001b[0;32m~/anaconda3/lib/python3.11/site-packages/matplotlib/_api/deprecation.py:297\u001b[0m, in \u001b[0;36mrename_parameter.<locals>.wrapper\u001b[0;34m(*args, **kwargs)\u001b[0m\n\u001b[1;32m    292\u001b[0m     warn_deprecated(\n\u001b[1;32m    293\u001b[0m         since, message\u001b[38;5;241m=\u001b[39m\u001b[38;5;124mf\u001b[39m\u001b[38;5;124m\"\u001b[39m\u001b[38;5;124mThe \u001b[39m\u001b[38;5;132;01m{\u001b[39;00mold\u001b[38;5;132;01m!r}\u001b[39;00m\u001b[38;5;124m parameter of \u001b[39m\u001b[38;5;132;01m{\u001b[39;00mfunc\u001b[38;5;241m.\u001b[39m\u001b[38;5;18m__name__\u001b[39m\u001b[38;5;132;01m}\u001b[39;00m\u001b[38;5;124m() \u001b[39m\u001b[38;5;124m\"\u001b[39m\n\u001b[1;32m    294\u001b[0m         \u001b[38;5;124mf\u001b[39m\u001b[38;5;124m\"\u001b[39m\u001b[38;5;124mhas been renamed \u001b[39m\u001b[38;5;132;01m{\u001b[39;00mnew\u001b[38;5;132;01m!r}\u001b[39;00m\u001b[38;5;124m since Matplotlib \u001b[39m\u001b[38;5;132;01m{\u001b[39;00msince\u001b[38;5;132;01m}\u001b[39;00m\u001b[38;5;124m; support \u001b[39m\u001b[38;5;124m\"\u001b[39m\n\u001b[1;32m    295\u001b[0m         \u001b[38;5;124mf\u001b[39m\u001b[38;5;124m\"\u001b[39m\u001b[38;5;124mfor the old name will be dropped %(removal)s.\u001b[39m\u001b[38;5;124m\"\u001b[39m)\n\u001b[1;32m    296\u001b[0m     kwargs[new] \u001b[38;5;241m=\u001b[39m kwargs\u001b[38;5;241m.\u001b[39mpop(old)\n\u001b[0;32m--> 297\u001b[0m \u001b[38;5;28;01mreturn\u001b[39;00m func(\u001b[38;5;241m*\u001b[39margs, \u001b[38;5;241m*\u001b[39m\u001b[38;5;241m*\u001b[39mkwargs)\n",
      "File \u001b[0;32m~/anaconda3/lib/python3.11/site-packages/matplotlib/axis.py:1969\u001b[0m, in \u001b[0;36mAxis.set_ticklabels\u001b[0;34m(self, labels, minor, fontdict, **kwargs)\u001b[0m\n\u001b[1;32m   1965\u001b[0m \u001b[38;5;28;01mif\u001b[39;00m \u001b[38;5;28misinstance\u001b[39m(locator, mticker\u001b[38;5;241m.\u001b[39mFixedLocator):\n\u001b[1;32m   1966\u001b[0m     \u001b[38;5;66;03m# Passing [] as a list of labels is often used as a way to\u001b[39;00m\n\u001b[1;32m   1967\u001b[0m     \u001b[38;5;66;03m# remove all tick labels, so only error for > 0 labels\u001b[39;00m\n\u001b[1;32m   1968\u001b[0m     \u001b[38;5;28;01mif\u001b[39;00m \u001b[38;5;28mlen\u001b[39m(locator\u001b[38;5;241m.\u001b[39mlocs) \u001b[38;5;241m!=\u001b[39m \u001b[38;5;28mlen\u001b[39m(labels) \u001b[38;5;129;01mand\u001b[39;00m \u001b[38;5;28mlen\u001b[39m(labels) \u001b[38;5;241m!=\u001b[39m \u001b[38;5;241m0\u001b[39m:\n\u001b[0;32m-> 1969\u001b[0m         \u001b[38;5;28;01mraise\u001b[39;00m \u001b[38;5;167;01mValueError\u001b[39;00m(\n\u001b[1;32m   1970\u001b[0m             \u001b[38;5;124m\"\u001b[39m\u001b[38;5;124mThe number of FixedLocator locations\u001b[39m\u001b[38;5;124m\"\u001b[39m\n\u001b[1;32m   1971\u001b[0m             \u001b[38;5;124mf\u001b[39m\u001b[38;5;124m\"\u001b[39m\u001b[38;5;124m (\u001b[39m\u001b[38;5;132;01m{\u001b[39;00m\u001b[38;5;28mlen\u001b[39m(locator\u001b[38;5;241m.\u001b[39mlocs)\u001b[38;5;132;01m}\u001b[39;00m\u001b[38;5;124m), usually from a call to\u001b[39m\u001b[38;5;124m\"\u001b[39m\n\u001b[1;32m   1972\u001b[0m             \u001b[38;5;124m\"\u001b[39m\u001b[38;5;124m set_ticks, does not match\u001b[39m\u001b[38;5;124m\"\u001b[39m\n\u001b[1;32m   1973\u001b[0m             \u001b[38;5;124mf\u001b[39m\u001b[38;5;124m\"\u001b[39m\u001b[38;5;124m the number of labels (\u001b[39m\u001b[38;5;132;01m{\u001b[39;00m\u001b[38;5;28mlen\u001b[39m(labels)\u001b[38;5;132;01m}\u001b[39;00m\u001b[38;5;124m).\u001b[39m\u001b[38;5;124m\"\u001b[39m)\n\u001b[1;32m   1974\u001b[0m     tickd \u001b[38;5;241m=\u001b[39m {loc: lab \u001b[38;5;28;01mfor\u001b[39;00m loc, lab \u001b[38;5;129;01min\u001b[39;00m \u001b[38;5;28mzip\u001b[39m(locator\u001b[38;5;241m.\u001b[39mlocs, labels)}\n\u001b[1;32m   1975\u001b[0m     func \u001b[38;5;241m=\u001b[39m functools\u001b[38;5;241m.\u001b[39mpartial(\u001b[38;5;28mself\u001b[39m\u001b[38;5;241m.\u001b[39m_format_with_dict, tickd)\n",
      "\u001b[0;31mValueError\u001b[0m: The number of FixedLocator locations (3), usually from a call to set_ticks, does not match the number of labels (2)."
     ]
    },
    {
     "data": {
      "image/png": "[encoded data removed]",
      "text/plain": [
       "<Figure size 640x480 with 2 Axes>"
      ]
     },
     "metadata": {},
     "output_type": "display_data"
    }
   ],
   "source": [
    "from sklearn import metrics\n",
    "\n",
    "confusion_matrix = metrics.confusion_matrix(pred, truth)\n",
    "\n",
    "cm_display = metrics.ConfusionMatrixDisplay(confusion_matrix = confusion_matrix, display_labels = [False, True])\n",
    "\n",
    "cm_display.plot()\n",
    "plt.show()"
   ]
  },
  {
   "cell_type": "code",
   "execution_count": null,
   "id": "600f2fcc",
   "metadata": {},
   "outputs": [],
   "source": [
    "plt.plot(train_acc)"
   ]
  },
  {
   "cell_type": "code",
   "execution_count": null,
   "id": "3ce95a5f",
   "metadata": {},
   "outputs": [
    {
     "data": {
      "application/vnd.jupyter.widget-view+json": {
       "model_id": "",
       "version_major": 2,
       "version_minor": 0
      },
      "text/plain": [
       "  0%|          | 0/201 [00:00<?, ?it/s]"
      ]
     },
     "metadata": {},
     "output_type": "display_data"
    },
    {
     "name": "stderr",
     "output_type": "stream",
     "text": [
      "/home/student5/anaconda3/lib/python3.11/site-packages/torch/nn/modules/conv.py:306: UserWarning: Using padding='same' with even kernel lengths and odd dilation may require a zero-padded copy of the input be created (Triggered internally at /opt/conda/conda-bld/pytorch_1702400430266/work/aten/src/ATen/native/Convolution.cpp:1008.)\n",
      "  return F.conv1d(input, weight, bias, self.stride,\n",
      "/home/student5/anaconda3/lib/python3.11/site-packages/torch/nn/modules/module.py:1518: UserWarning: Implicit dimension choice for softmax has been deprecated. Change the call to include dim=X as an argument.\n",
      "  return self._call_impl(*args, **kwargs)\n"
     ]
    },
    {
     "name": "stdout",
     "output_type": "stream",
     "text": [
      "0.41114348142753093 0.3660130718954248\n"
     ]
    }
   ],
   "source": [
    "trainset = FishDataset(X_train, y_train)\n",
    "valset = FishDataset(X_val, y_val)\n",
    "trainloader = DataLoader(trainset)\n",
    "valloader = DataLoader(valset)\n",
    "\n",
    "model = FishNet(in_chans = X_train.shape[1], n_classes=3).to(device)\n",
    "loss_fun = nn.CrossEntropyLoss()\n",
    "optimizer = torch.optim.Adam(model.parameters(), lr=0.0001)\n",
    "scheduler = torch.optim.lr_scheduler.ReduceLROnPlateau(optimizer, factor = 0.1, verbose=True)\n",
    "\n",
    "loss_train = []\n",
    "loss_val = []\n",
    "acc_train = []\n",
    "acc_val = []\n",
    "\n",
    "E = 201\n",
    "E_tune = 31\n",
    "\n",
    "for e in tqdm(range(E)):\n",
    "    model.train()\n",
    "    train_loss = 0\n",
    "    train_acc = 0\n",
    "    for X, y in trainloader:\n",
    "        X, y = X.to(device), y.to(device)\n",
    "        optimizer.zero_grad()\n",
    "        output = model(X)\n",
    "        loss = loss_fun(output, y)\n",
    "        loss.backward()\n",
    "        optimizer.step()\n",
    "        train_loss += loss.item()\n",
    "        train_acc += torch.sum(torch.argmax(output, dim=1) == y).item()\n",
    "    scheduler.step(train_loss)\n",
    "    train_loss /= len(trainloader)\n",
    "    train_acc /= len(trainset)\n",
    "    \n",
    "    val_loss = 0\n",
    "    val_acc = 0\n",
    "    with torch.inference_mode():\n",
    "        for X, y in valloader:\n",
    "            X, y = X.to(device), y.to(device)\n",
    "            output = model(X)\n",
    "            loss = loss_fun(output, y)\n",
    "            val_loss += loss.item()\n",
    "            val_acc += torch.sum(torch.argmax(output, dim=1) == y).item()\n",
    "    val_loss /= len(valloader)\n",
    "    val_acc /= len(valset)\n",
    "    \n",
    "    if e%10==0:\n",
    "        print(train_acc, val_acc)"
   ]
  },
  {
   "cell_type": "code",
   "execution_count": 18,
   "id": "123074b0",
   "metadata": {},
   "outputs": [
    {
     "ename": "NameError",
     "evalue": "name 'loss_test' is not defined",
     "output_type": "error",
     "traceback": [
      "\u001b[0;31m---------------------------------------------------------------------------\u001b[0m",
      "\u001b[0;31mNameError\u001b[0m                                 Traceback (most recent call last)",
      "Cell \u001b[0;32mIn[18], line 5\u001b[0m\n\u001b[1;32m      3\u001b[0m train_acc \u001b[38;5;241m=\u001b[39m np\u001b[38;5;241m.\u001b[39marray(acc_train)\n\u001b[1;32m      4\u001b[0m val_acc \u001b[38;5;241m=\u001b[39m np\u001b[38;5;241m.\u001b[39marray(acc_val)\n\u001b[0;32m----> 5\u001b[0m test_loss \u001b[38;5;241m=\u001b[39m np\u001b[38;5;241m.\u001b[39marray(loss_test)\n\u001b[1;32m      6\u001b[0m test_acc \u001b[38;5;241m=\u001b[39m np\u001b[38;5;241m.\u001b[39marray(acc_test)\n",
      "\u001b[0;31mNameError\u001b[0m: name 'loss_test' is not defined"
     ]
    }
   ],
   "source": [
    "train_loss = np.array(loss_train)\n",
    "val_loss = np.array(loss_val)\n",
    "train_acc = np.array(acc_train)\n",
    "val_acc = np.array(acc_val)\n",
    "test_loss = np.array(loss_test)\n",
    "test_acc = np.array(acc_test)"
   ]
  },
  {
   "cell_type": "code",
   "execution_count": 19,
   "id": "da0bc03f",
   "metadata": {},
   "outputs": [
    {
     "ename": "NameError",
     "evalue": "name 'test_acc' is not defined",
     "output_type": "error",
     "traceback": [
      "\u001b[0;31m---------------------------------------------------------------------------\u001b[0m",
      "\u001b[0;31mNameError\u001b[0m                                 Traceback (most recent call last)",
      "Cell \u001b[0;32mIn[19], line 4\u001b[0m\n\u001b[1;32m      2\u001b[0m plt\u001b[38;5;241m.\u001b[39mplot(train_acc)\n\u001b[1;32m      3\u001b[0m plt\u001b[38;5;241m.\u001b[39mplot(val_acc)\n\u001b[0;32m----> 4\u001b[0m plt\u001b[38;5;241m.\u001b[39mplot(test_acc)\n",
      "\u001b[0;31mNameError\u001b[0m: name 'test_acc' is not defined"
     ]
    },
    {
     "data": {
      "image/png": "[encoded data removed]",
      "text/plain": [
       "<Figure size 640x480 with 1 Axes>"
      ]
     },
     "metadata": {},
     "output_type": "display_data"
    }
   ],
   "source": [
    "import matplotlib.pyplot as plt\n",
    "plt.plot(train_acc)\n",
    "plt.plot(val_acc)\n",
    "plt.plot(test_acc)"
   ]
  },
  {
   "cell_type": "code",
   "execution_count": 13,
   "id": "1d601e49",
   "metadata": {},
   "outputs": [
    {
     "data": {
      "text/plain": [
       "[<matplotlib.lines.Line2D at 0x7fde10db1f90>]"
      ]
     },
     "execution_count": 13,
     "metadata": {},
     "output_type": "execute_result"
    },
    {
     "data": {
      "image/png": "[encoded data removed]",
      "text/plain": [
       "<Figure size 640x480 with 1 Axes>"
      ]
     },
     "metadata": {},
     "output_type": "display_data"
    }
   ],
   "source": [
    "import matplotlib.pyplot as plt\n",
    "plt.plot(train_acc)\n",
    "plt.plot(val_acc)\n",
    "plt.plot(test_acc)"
   ]
  },
  {
   "cell_type": "code",
   "execution_count": 12,
   "id": "108c7d97",
   "metadata": {},
   "outputs": [],
   "source": [
    "# np.save(\"Result/non aligned/inception/22/train_loss.npy\", train_loss, allow_pickle=True)\n",
    "# np.save(\"Result/non aligned/inception/22/val_loss.npy\", val_loss, allow_pickle=True)\n",
    "# np.save(\"Result/non aligned/inception/22/train_acc.npy\", train_acc, allow_pickle=True)\n",
    "# np.save(\"Result/non aligned/inception/22/val_acc.npy\", val_acc, allow_pickle=True)"
   ]
  },
  {
   "cell_type": "code",
   "execution_count": 13,
   "id": "9b0fec32",
   "metadata": {
    "scrolled": true
   },
   "outputs": [
    {
     "name": "stdout",
     "output_type": "stream",
     "text": [
      "Fine-tuning\n"
     ]
    },
    {
     "data": {
      "application/vnd.jupyter.widget-view+json": {
       "model_id": "",
       "version_major": 2,
       "version_minor": 0
      },
      "text/plain": [
       "  0%|          | 0/101 [00:00<?, ?it/s]"
      ]
     },
     "metadata": {},
     "output_type": "display_data"
    },
    {
     "name": "stdout",
     "output_type": "stream",
     "text": [
      "1.0268994569778442 0.5208333333333334\n",
      "1.0268994569778442 0.5208333333333334\n"
     ]
    },
    {
     "name": "stderr",
     "output_type": "stream",
     "text": [
      "/tmp/ipykernel_15013/2941981507.py:30: UserWarning: Implicit dimension choice for softmax has been deprecated. Change the call to include dim=X as an argument.\n",
      "  data = f.softmax(self.linear(data))\n"
     ]
    },
    {
     "name": "stdout",
     "output_type": "stream",
     "text": [
      "1.0268994569778442 0.5208333333333334\n",
      "1.0268994569778442 0.5208333333333334\n",
      "1.0268994569778442 0.5208333333333334\n",
      "1.0268994569778442 0.5208333333333334\n",
      "1.0268994569778442 0.5208333333333334\n",
      "1.0268994569778442 0.5208333333333334\n",
      "1.0268994569778442 0.5208333333333334\n",
      "1.0268994569778442 0.5208333333333334\n",
      "1.0268994569778442 0.5208333333333334\n",
      "1.0268994569778442 0.5208333333333334\n",
      "1.0268994569778442 0.5208333333333334\n",
      "1.0268994569778442 0.5208333333333334\n",
      "1.0268994569778442 0.5208333333333334\n",
      "1.0268994569778442 0.5208333333333334\n",
      "1.0268994569778442 0.5208333333333334\n",
      "1.0268994569778442 0.5208333333333334\n",
      "1.0268994569778442 0.5208333333333334\n",
      "1.0268994569778442 0.5208333333333334\n",
      "1.0268994569778442 0.5208333333333334\n",
      "1.0268994569778442 0.5208333333333334\n",
      "1.0268994569778442 0.5208333333333334\n",
      "1.0268994569778442 0.5208333333333334\n",
      "1.0268994569778442 0.5208333333333334\n",
      "1.0268994569778442 0.5208333333333334\n",
      "1.0268994569778442 0.5208333333333334\n",
      "1.0268994569778442 0.5208333333333334\n",
      "1.0268994569778442 0.5208333333333334\n",
      "1.0268994569778442 0.5208333333333334\n",
      "1.0268994569778442 0.5208333333333334\n",
      "1.0268994569778442 0.5208333333333334\n",
      "1.0268994569778442 0.5208333333333334\n",
      "1.0268994569778442 0.5208333333333334\n",
      "1.0268994569778442 0.5208333333333334\n",
      "1.0268994569778442 0.5208333333333334\n",
      "1.0268994569778442 0.5208333333333334\n",
      "1.0268994569778442 0.5208333333333334\n",
      "1.0268994569778442 0.5208333333333334\n",
      "1.0268994569778442 0.5208333333333334\n",
      "1.0268994569778442 0.5208333333333334\n",
      "1.0268994569778442 0.5208333333333334\n",
      "1.0268994569778442 0.5208333333333334\n",
      "1.0268994569778442 0.5208333333333334\n",
      "1.0268994569778442 0.5208333333333334\n",
      "1.0268994569778442 0.5208333333333334\n",
      "1.0268994569778442 0.5208333333333334\n",
      "1.0268994569778442 0.5208333333333334\n",
      "1.0268994569778442 0.5208333333333334\n",
      "1.0268994569778442 0.5208333333333334\n",
      "1.0268994569778442 0.5208333333333334\n",
      "1.0268994569778442 0.5208333333333334\n",
      "1.0268994569778442 0.5208333333333334\n",
      "1.0268994569778442 0.5208333333333334\n",
      "1.0268994569778442 0.5208333333333334\n",
      "1.0268994569778442 0.5208333333333334\n",
      "1.0268994569778442 0.5208333333333334\n",
      "1.0268994569778442 0.5208333333333334\n",
      "1.0268994569778442 0.5208333333333334\n",
      "1.0268994569778442 0.5208333333333334\n",
      "1.0268994569778442 0.5208333333333334\n",
      "1.0268994569778442 0.5208333333333334\n",
      "1.0268994569778442 0.5208333333333334\n",
      "1.0268994569778442 0.5208333333333334\n",
      "1.0268994569778442 0.5208333333333334\n",
      "1.0268994569778442 0.5208333333333334\n",
      "1.0268994569778442 0.5208333333333334\n",
      "1.0268994569778442 0.5208333333333334\n",
      "1.0268994569778442 0.5208333333333334\n",
      "1.0268994569778442 0.5208333333333334\n",
      "1.0268994569778442 0.5208333333333334\n",
      "1.0268994569778442 0.5208333333333334\n",
      "1.0268994569778442 0.5208333333333334\n",
      "1.0268994569778442 0.5208333333333334\n",
      "1.0268994569778442 0.5208333333333334\n",
      "1.0268994569778442 0.5208333333333334\n",
      "1.0268994569778442 0.5208333333333334\n",
      "1.0268994569778442 0.5208333333333334\n",
      "1.0268994569778442 0.5208333333333334\n",
      "1.0268994569778442 0.5208333333333334\n",
      "1.0268994569778442 0.5208333333333334\n",
      "1.0268994569778442 0.5208333333333334\n",
      "1.0268994569778442 0.5208333333333334\n",
      "1.0268994569778442 0.5208333333333334\n",
      "1.0268994569778442 0.5208333333333334\n",
      "1.0268994569778442 0.5208333333333334\n",
      "1.0268994569778442 0.5208333333333334\n",
      "1.0268994569778442 0.5208333333333334\n",
      "1.0268994569778442 0.5208333333333334\n",
      "1.0268994569778442 0.5208333333333334\n",
      "1.0268994569778442 0.5208333333333334\n",
      "1.0268994569778442 0.5208333333333334\n",
      "1.0268994569778442 0.5208333333333334\n",
      "1.0268994569778442 0.5208333333333334\n",
      "1.0268994569778442 0.5208333333333334\n",
      "1.0268994569778442 0.5208333333333334\n",
      "1.0268994569778442 0.5208333333333334\n",
      "1.0268994569778442 0.5208333333333334\n",
      "1.0268994569778442 0.5208333333333334\n",
      "1.0268994569778442 0.5208333333333334\n",
      "1.0268994569778442 0.5208333333333334\n",
      "1.0823540091514587 0.47916666666666663\n"
     ]
    }
   ],
   "source": [
    "# Fine tune\n",
    "print(\"Fine-tuning\")\n",
    "tunemodel = copy.deepcopy(model)\n",
    "tuneoptimizer = torch.optim.Adam(tunemodel.parameters(), lr=0.0001)\n",
    "\n",
    "for etune in tqdm(range(101)):\n",
    "    tune_train_acc = 0\n",
    "    tune_train_loss = 0\n",
    "    model.train()\n",
    "    for X, y in traintuneloader:\n",
    "        X, y = X.to(device), y.to(device)\n",
    "        tuneoptimizer.zero_grad()\n",
    "        output = tunemodel(X)\n",
    "        loss = loss_fun(output, y)\n",
    "        loss.backward()\n",
    "        tuneoptimizer.step()\n",
    "        tune_train_loss += loss.item()/len(traintuneloader)\n",
    "        tune_train_acc += torch.sum(torch.argmax(output, dim=1) == y).item()/len(traintuneset)\n",
    "    print(tune_train_loss, tune_train_acc)\n",
    "with torch.inference_mode():\n",
    "    tune_val_acc = 0\n",
    "    tune_val_loss = 0\n",
    "    for X, y in valtuneloader:\n",
    "        X, y = X.to(device), y.to(device)\n",
    "        output = tunemodel(X)\n",
    "        loss = loss_fun(output, y)\n",
    "        tune_val_loss += loss.item()/lxen(valtuneloader)\n",
    "        tune_val_acc += torch.sum(torch.argmax(output, dim=1) == y).item()/len(valtuneset)\n",
    "print(tune_val_loss, tune_val_acc)"
   ]
  },
  {
   "cell_type": "code",
   "execution_count": 13,
   "id": "eef4ecc7",
   "metadata": {},
   "outputs": [],
   "source": [
    "# torch.save(model, 'Result/non aligned/inception/22/model_e100.pt')"
   ]
  },
  {
   "cell_type": "code",
   "execution_count": null,
   "id": "fd4edffd",
   "metadata": {},
   "outputs": [],
   "source": []
  }
 ],
 "metadata": {
  "kernelspec": {
   "display_name": "Python 3 (ipykernel)",
   "language": "python",
   "name": "python3"
  },
  "language_info": {
   "codemirror_mode": {
    "name": "ipython",
    "version": 3
   },
   "file_extension": ".py",
   "mimetype": "text/x-python",
   "name": "python",
   "nbconvert_exporter": "python",
   "pygments_lexer": "ipython3",
   "version": "3.11.5"
  }
 },
 "nbformat": 4,
 "nbformat_minor": 5
}
